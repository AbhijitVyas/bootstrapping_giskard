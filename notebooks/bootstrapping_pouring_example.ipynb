{
 "cells": [
  {
   "cell_type": "markdown",
   "id": "795e31c3-ede8-476f-a7bd-cd4b8911d3ea",
   "metadata": {
    "execution": {
     "iopub.execute_input": "2024-01-22T16:09:32.961531Z",
     "iopub.status.busy": "2024-01-22T16:09:32.961000Z",
     "iopub.status.idle": "2024-01-22T16:09:32.963371Z",
     "shell.execute_reply": "2024-01-22T16:09:32.962935Z",
     "shell.execute_reply.started": "2024-01-22T16:09:32.961514Z"
    },
    "pycharm": {
     "name": "#%% md\n"
    }
   },
   "source": [
    "# HSR Mujoco Example\n",
    "\n",
    "HSR in Mujoco simulator.\n",
    "\n",
    "### Dependencies:\n",
    "\n",
    "1. [Giskard branch: mujoco_actions_devel](https://github.com/SemRoCo/giskardpy/tree/37b4048c3787c1f5f0370ca4e8ee10754eaa12c9)\n",
    "\n",
    "1. [mujoco_sim](https://github.com/HoangGiang93/mujoco_sim)\n",
    "\n",
    "1. [HSR description files](https://github.com/maltehue/mujoco_robots)"
   ]
  },
  {
   "cell_type": "markdown",
   "id": "8e5cc757-63f6-4314-bac6-93021e6b24d5",
   "metadata": {
    "execution": {
     "iopub.execute_input": "2024-01-22T16:09:32.961531Z",
     "iopub.status.busy": "2024-01-22T16:09:32.961000Z",
     "iopub.status.idle": "2024-01-22T16:09:32.963371Z",
     "shell.execute_reply": "2024-01-22T16:09:32.962935Z",
     "shell.execute_reply.started": "2024-01-22T16:09:32.961514Z"
    },
    "pycharm": {
     "name": "#%% md\n"
    }
   },
   "source": [
    "## 1. Launch Robot and envrionment"
   ]
  },
  {
   "cell_type": "markdown",
   "source": [
    "# What is the bootstrapping approach for the task learning?\n",
    "In the context of teaching, the bootstrapping approach often involves starting with basic knowledge or skills and then iteratively improving or expanding upon them through additional learning experiences, in this case by interacting with a human mentor. This approach allows learners to gradually acquire more complex knowledge or abilities by building on what they already know. Bootstrapping is a common strategy in education and learning systems, helping individuals incrementally develop their expertise.\n",
    "\n",
    "For the learning of the pouring task, a task-learning strategy has been developed by leveraging primitive actions that the PR2 robot can execute using GISKARD's primitive motion skills. This strategy involves breaking down the pouring task into already existing skills that the robot knows how to execute. By utilizing these primitive skills, the robot can gradually learn and perform the complete pouring task. When the instruction to save the learning plan is given, the robot can then incorporate this complex plan into its existing repertoire of skills. This method allows the robot to accumulate and store knowledge about various tasks and their constraints, contributing to its overall capabilities."
   ],
   "metadata": {
    "collapsed": false,
    "pycharm": {
     "name": "#%% md\n"
    }
   },
   "id": "9e788ab5ecb636ff"
  },
  {
   "cell_type": "code",
   "outputs": [],
   "source": [
    "import ipywidgets as widgets\n",
    "from ipywidgets import HBox\n",
    "\n",
    "# all available parameters\n",
    "actions = [('pour', \"tax:pour\"),\n",
    "           ('sprinkle', \"tax:sprinkle\")]\n",
    "\n",
    "substances = [('water', \"tax:water\"),\n",
    "              ('salt', \"tax:salt\"),\n",
    "              ('pancake_batter', \"tax:pancake_batter\")]\n",
    "\n",
    "sources = [('blue_cup_1', \"tax:blue_cup_1\"),\n",
    "           ('white_cup_1', \"tax:white_cup_1\"),\n",
    "           ('bowl_1', \"tax:bowl_1\"),\n",
    "           ('pot_1', \"tax:pot_1\")]\n",
    "\n",
    "destinations = [('blue_cup_2', \"tax:blue_cup_2\"),\n",
    "                ('white_cup_2', \"tax:white_cup_2\"),\n",
    "                ('bowl_2', \"tax:bowl_2\"),\n",
    "                ('pot_2', \"tax:pot_2\")]\n",
    "\n",
    "action = \"\"\n",
    "substance = \"\"\n",
    "source = \"\"\n",
    "destination = \"\"\n",
    "\n",
    "\n",
    "# Takes an Action of the list.\n",
    "# Then makes the previously initialized variable global and assigns value of the given action to it \n",
    "def chooseAction(Action):\n",
    "    global action\n",
    "    action = Action\n",
    "\n",
    "\n",
    "# Takes a Substance of the list.\n",
    "# Then makes the previously initialized variable global and assigns value of the given substance to it \n",
    "def choosePref(Substance):\n",
    "    global substance\n",
    "    substance = Substance\n",
    "\n",
    "\n",
    "# Takes a Source of the list.\n",
    "# Then makes the previously initialized variable global and assigns value of the given source to it \n",
    "def chooseSource(Source):\n",
    "    global source\n",
    "    source = Source\n",
    "\n",
    "\n",
    "# Takes a Destination of the list.\n",
    "# Then makes the previously initialized variable global and assigns value of the given destination to it \n",
    "def chooseDestination(Destination):\n",
    "    global destination\n",
    "    destination = Destination\n",
    "\n",
    "\n",
    "# Create the dropdown widgets\n",
    "action_widget = widgets.Dropdown(options=actions, description='Action:')\n",
    "substance_widget = widgets.Dropdown(options=substances, description='Substance:')\n",
    "source_widget = widgets.Dropdown(options=sources, description='Source:')\n",
    "destination_widget = widgets.Dropdown(options=destinations, description='Destination:')\n",
    "\n",
    "widgets_display = HBox([action_widget, substance_widget, source_widget, destination_widget])\n",
    "# Display widgets\n",
    "widgets_display\n"
   ],
   "metadata": {
    "collapsed": false,
    "pycharm": {
     "name": "#%%\n"
    }
   },
   "id": "972422af809f9096"
  },
  {
   "cell_type": "markdown",
   "source": [
    "### Initialize and display environment"
   ],
   "metadata": {
    "collapsed": false,
    "pycharm": {
     "name": "#%% md\n"
    }
   },
   "id": "7c5be1f1f7b226"
  },
  {
   "cell_type": "code",
   "execution_count": 1,
   "id": "4c8a831f-a907-4497-8452-9a80fab96a1b",
   "metadata": {
    "execution": {
     "iopub.execute_input": "2024-02-06T15:46:23.404865Z",
     "iopub.status.busy": "2024-02-06T15:46:23.404541Z",
     "iopub.status.idle": "2024-02-06T15:46:23.632580Z",
     "shell.execute_reply": "2024-02-06T15:46:23.632222Z",
     "shell.execute_reply.started": "2024-02-06T15:46:23.404850Z"
    },
    "jupyter": {
     "source_hidden": true
    },
    "pycharm": {
     "name": "#%%\n"
    }
   },
   "outputs": [
    {
     "data": {
      "application/vnd.jupyter.widget-view+json": {
       "model_id": "4213cbe4e324425da76928256ef11d8b",
       "version_major": 2,
       "version_minor": 0
      },
      "text/plain": [
       "VBox(children=(ToggleButtons(description='robots', options=('HSR', 'HSR with a cup', 'HSR with a tray'), toolt…"
      ]
     },
     "metadata": {},
     "output_type": "display_data"
    }
   ],
   "source": [
    "import os\n",
    "import psutil\n",
    "import subprocess\n",
    "import rospy\n",
    "import ipywidgets as widgets\n",
    "from ipywidgets import Button, Layout, GridBox, VBox, HBox, FloatSlider, ToggleButtons, Box\n",
    "from IPython.display import display, Markdown, IFrame\n",
    "from sidecar import Sidecar\n",
    "\n",
    "# Directory of the ROS launch files\n",
    "LAUNCH_FILE_DIR = os.path.abspath(os.path.join(os.getcwd(), \"../launch\"))\n",
    "# To display web UI on the left\n",
    "SIDECAR = None\n",
    "# To manage the roslaunch process in the background\n",
    "LAUNCH_PROCESS = None\n",
    "\n",
    "\n",
    "# print(\"value of selected inputs\", action, substance, source, destination)\n",
    "\n",
    "# Popup the xpra desktop on the left panel\n",
    "def open_xpra():\n",
    "    global SIDECAR\n",
    "    if SIDECAR is not None:\n",
    "        SIDECAR.close()\n",
    "    SIDECAR = Sidecar(title='XRPA', anchor='right')\n",
    "    try:\n",
    "        JUPYTERHUB_USER = '/user/' + os.environ['JUPYTERHUB_USER']\n",
    "    except KeyError:\n",
    "        JUPYTERHUB_USER = ''\n",
    "    xpra_url = f\"{JUPYTERHUB_USER}/xprahtml5/index.html\"\n",
    "    print(xpra_url)\n",
    "    with SIDECAR:\n",
    "        display(IFrame(src=xpra_url, width='100%', height='100%'))\n",
    "\n",
    "\n",
    "try:\n",
    "    DISPLAY_NUM = os.environ['DISPLAY']\n",
    "except KeyError:\n",
    "    DISPLAY_NUM = None\n",
    "\n",
    "global LAUNCH_PROCESS\n",
    "if LAUNCH_PROCESS is not None:\n",
    "    LAUNCH_PROCESS.terminate()\n",
    "    LAUNCH_PROCESS.wait()\n",
    "if DISPLAY_NUM == ':100' or True:\n",
    "    open_xpra()\n",
    "launchfile = os.path.join(LAUNCH_FILE_DIR, \"hsrb4s_velocity_two_cups.launch\")\n",
    "command = [\n",
    "    'roslaunch',\n",
    "    launchfile\n",
    "]\n",
    "LAUNCH_PROCESS = psutil.Popen(command,\n",
    "                              stdout=subprocess.DEVNULL,\n",
    "                              stderr=subprocess.DEVNULL)\n",
    "print(f\"\"\"\n",
    "    Executing command: \n",
    "    {' '.join(command)}\n",
    "    in the background, the output will be hidden. \n",
    "    To check the output please execute it in a Terminial!\n",
    "\"\"\")\n",
    "\n",
    "launchfile = os.path.join(LAUNCH_FILE_DIR, \"giskardpy_hsr_mujoco.launch\")\n",
    "command = [\n",
    "    'roslaunch',\n",
    "    launchfile\n",
    "]\n",
    "LAUNCH_PROCESS = psutil.Popen(command,\n",
    "                              stdout=subprocess.DEVNULL,\n",
    "                              stderr=subprocess.DEVNULL)\n",
    "print(f\"\"\"\n",
    "    Executing command: \n",
    "    {' '.join(command)}\n",
    "    in the background, the output will be hidden. \n",
    "    To check the output please execute it in a Terminial!\n",
    "\"\"\")\n",
    "\n"
   ]
  },
  {
   "cell_type": "markdown",
   "id": "c62dcdbd-f356-4ae0-b91c-fb70322e21b7",
   "metadata": {
    "pycharm": {
     "name": "#%% md\n"
    }
   },
   "source": [
    "## 2. Control the robot with the Giskard Python Interface"
   ]
  },
  {
   "cell_type": "code",
   "execution_count": 1,
   "id": "010a0a96-7567-4b04-85b4-827b625e8bb5",
   "metadata": {
    "execution": {
     "iopub.execute_input": "2024-02-06T15:46:23.633678Z",
     "iopub.status.busy": "2024-02-06T15:46:23.633319Z",
     "iopub.status.idle": "2024-02-06T15:46:24.102913Z",
     "shell.execute_reply": "2024-02-06T15:46:24.102443Z",
     "shell.execute_reply.started": "2024-02-06T15:46:23.633664Z"
    },
    "jupyter": {
     "source_hidden": true
    },
    "pycharm": {
     "name": "#%%\n"
    }
   },
   "outputs": [
    {
     "ename": "AttributeError",
     "evalue": "'ObjectGripperModel' object has no attribute 'effort_threshold'",
     "output_type": "error",
     "traceback": [
      "\u001B[0;31m---------------------------------------------------------------------------\u001B[0m",
      "\u001B[0;31mAttributeError\u001B[0m                            Traceback (most recent call last)",
      "Cell \u001B[0;32mIn[1], line 46\u001B[0m\n\u001B[1;32m     43\u001B[0m dest_cup_pose\u001B[38;5;241m.\u001B[39mpose\u001B[38;5;241m.\u001B[39mposition \u001B[38;5;241m=\u001B[39m Point(\u001B[38;5;241m2\u001B[39m, \u001B[38;5;241m-\u001B[39m\u001B[38;5;241m0.4\u001B[39m, \u001B[38;5;241m0.5\u001B[39m)\n\u001B[1;32m     44\u001B[0m dest_cup_pose\u001B[38;5;241m.\u001B[39mpose\u001B[38;5;241m.\u001B[39morientation\u001B[38;5;241m.\u001B[39mw \u001B[38;5;241m=\u001B[39m \u001B[38;5;241m1\u001B[39m\n\u001B[0;32m---> 46\u001B[0m \u001B[43mput_down\u001B[49m\u001B[43m(\u001B[49m\u001B[43mgis\u001B[49m\u001B[43m,\u001B[49m\u001B[43m \u001B[49m\u001B[43mcup_gripper\u001B[49m\u001B[43m,\u001B[49m\u001B[43m \u001B[49m\u001B[43mdest_cup_pose\u001B[49m\u001B[43m)\u001B[49m\n",
      "File \u001B[0;32m~/workspace/new_giskard_ws/src/bootstrapping_giskard/notebooks/grasp_and_pour_methods.py:201\u001B[0m, in \u001B[0;36mput_down\u001B[0;34m(giskard, gripper, goal_pose)\u001B[0m\n\u001B[1;32m    198\u001B[0m giskard\u001B[38;5;241m.\u001B[39mexecute()\n\u001B[1;32m    199\u001B[0m \u001B[38;5;66;03m# giskard.add_default_end_motion_conditions()\u001B[39;00m\n\u001B[1;32m    200\u001B[0m \u001B[38;5;66;03m# open the gripper\u001B[39;00m\n\u001B[0;32m--> 201\u001B[0m \u001B[43mopenGripper\u001B[49m\u001B[43m(\u001B[49m\u001B[43mgiskard\u001B[49m\u001B[43m,\u001B[49m\u001B[43m \u001B[49m\u001B[43mgripper\u001B[49m\u001B[43m)\u001B[49m\n\u001B[1;32m    202\u001B[0m giskard\u001B[38;5;241m.\u001B[39mexecute()\n",
      "File \u001B[0;32m~/workspace/new_giskard_ws/src/bootstrapping_giskard/notebooks/grasp_and_pour_methods.py:68\u001B[0m, in \u001B[0;36mopenGripper\u001B[0;34m(giskard, gripper)\u001B[0m\n\u001B[1;32m     63\u001B[0m \u001B[38;5;28;01mdef\u001B[39;00m \u001B[38;5;21mopenGripper\u001B[39m(giskard: GiskardWrapper, gripper: GripperModel):\n\u001B[1;32m     64\u001B[0m     giskard\u001B[38;5;241m.\u001B[39mmotion_goals\u001B[38;5;241m.\u001B[39madd_motion_goal(motion_goal_class\u001B[38;5;241m=\u001B[39m\u001B[38;5;124m'\u001B[39m\u001B[38;5;124mCloseGripper\u001B[39m\u001B[38;5;124m'\u001B[39m,\n\u001B[1;32m     65\u001B[0m                                          name\u001B[38;5;241m=\u001B[39m\u001B[38;5;124m'\u001B[39m\u001B[38;5;124mopenGripper\u001B[39m\u001B[38;5;124m'\u001B[39m,\n\u001B[1;32m     66\u001B[0m                                          as_open\u001B[38;5;241m=\u001B[39m\u001B[38;5;28;01mTrue\u001B[39;00m,\n\u001B[1;32m     67\u001B[0m                                          velocity_threshold\u001B[38;5;241m=\u001B[39m\u001B[38;5;241m100\u001B[39m,\n\u001B[0;32m---> 68\u001B[0m                                          effort_threshold\u001B[38;5;241m=\u001B[39m\u001B[43mgripper\u001B[49m\u001B[38;5;241;43m.\u001B[39;49m\u001B[43meffort_threshold\u001B[49m,\n\u001B[1;32m     69\u001B[0m                                          effort\u001B[38;5;241m=\u001B[39m\u001B[38;5;241m100\u001B[39m,\n\u001B[1;32m     70\u001B[0m                                          pub_topic\u001B[38;5;241m=\u001B[39mgripper\u001B[38;5;241m.\u001B[39mpub_topic,\n\u001B[1;32m     71\u001B[0m                                          joint_state_topic\u001B[38;5;241m=\u001B[39mgripper\u001B[38;5;241m.\u001B[39mgriper_joint_state_topic,\n\u001B[1;32m     72\u001B[0m                                          alibi_joint_name\u001B[38;5;241m=\u001B[39mgripper\u001B[38;5;241m.\u001B[39malibi_joint_name\n\u001B[1;32m     73\u001B[0m                                          )\n\u001B[1;32m     74\u001B[0m     giskard\u001B[38;5;241m.\u001B[39mmotion_goals\u001B[38;5;241m.\u001B[39mallow_all_collisions()\n\u001B[1;32m     75\u001B[0m     giskard\u001B[38;5;241m.\u001B[39madd_default_end_motion_conditions()\n",
      "\u001B[0;31mAttributeError\u001B[0m: 'ObjectGripperModel' object has no attribute 'effort_threshold'"
     ]
    }
   ],
   "source": [
    "import rospy\n",
    "import random\n",
    "from giskardpy.python_interface.python_interface import GiskardWrapper\n",
    "from giskardpy.goals.joint_goals import JointPositionList\n",
    "from giskardpy.monitors.joint_monitors import JointGoalReached\n",
    "from geometry_msgs.msg import PoseStamped, Point, Quaternion, Vector3Stamped, PointStamped, QuaternionStamped\n",
    "from grasp_and_pour_methods import openGripper, align_to, closeGripper, tilt, grasp, put_down, pick_up, attach_to_gripper, hsrGripperModel, pr2LeftGripperModel, ObjectGripperModel\n",
    "\n",
    "# Before running this script make sure to start a giskard instance using 'roslaunch giskardpy giskardpy_hsr_mujoco.launch'\n",
    "# And before that the mujoco simulation has to be running\n",
    "rospy.init_node('graspAndPour')\n",
    "gis = GiskardWrapper()\n",
    "# choose a gripperModel for the gripper to be used in the following methods\n",
    "gripper = hsrGripperModel\n",
    "\n",
    "# Grasp the free cup from front side\n",
    "pick_up(gis, gripper, 'free_cup', 'front', distance=0.04)\n",
    "\n",
    "# Here the free_cup is added to the kinematic model of the robot.\n",
    "# It is done to create a gripper model for the grasped objects to describe movements with respect to the cup\n",
    "# TODO: Query the object size from environment information for now it is fixed\n",
    "grasped_object_name = attach_to_gripper(gis, gripper, object_name='free_cup', object_size=(0.07, 0.07, 0.18))\n",
    "\n",
    "# Create a new gripper model with the grasped and attached cup\n",
    "cup_gripper = ObjectGripperModel(grasped_object_name=grasped_object_name)\n",
    "\n",
    "# This aligns gripper to the left of the object frame in a distance of 0.13m.\n",
    "# Additionally, the gripper frame is 0.2m higher than the object frame. The second_distance paramter can be used to\n",
    "# to set an offset in the remaining dimension, here the x-axis of the object frame\n",
    "align_to(gis, cup_gripper, 'left', object_frame='free_cup2', distance=0.10, height_offset=0.15, second_distance=0.0)\n",
    "\n",
    "# Tilt the controlled_frame by angle around the rotation axis with a maximum velocity of velocity.\n",
    "tilt(gis, cup_gripper, angle=1.7, velocity=1.0)\n",
    "\n",
    "# TODO: wait till all the particles are outside the source, check the state of simulator?\n",
    "\n",
    "# Tilt the controlled_frame by angle around the rotation axis with a maximum velocity of velocity.\n",
    "tilt(gis, cup_gripper, angle=-1.7, velocity=1.0)\n",
    "\n",
    "# TODO: putdown the cup again\n",
    "# pos = \"2 -0.6 0.5\"\n",
    "dest_cup_pose = PoseStamped()\n",
    "dest_cup_pose.header.frame_id = 'map'\n",
    "dest_cup_pose.pose.position = Point(2, -0.4, 0.5)\n",
    "dest_cup_pose.pose.orientation.w = 1\n",
    "\n",
    "put_down(gis, cup_gripper, dest_cup_pose)"
   ]
  },
  {
   "cell_type": "markdown",
   "source": [
    "Knowrob queries for accessing NEEM, roslaunch the environment before running the neem as animation"
   ],
   "metadata": {
    "collapsed": false,
    "pycharm": {
     "name": "#%% md\n"
    }
   },
   "id": "e8a899209eeb42ea"
  },
  {
   "cell_type": "code",
   "outputs": [],
   "source": [
    "assertz(collection_name(ros_tf)),\n",
    "assertz(collection_name(triples)),\n",
    "assertz(collection_name(annotations)),\n",
    "assertz(collection_name(inferred))."
   ],
   "metadata": {
    "collapsed": false,
    "pycharm": {
     "name": "#%%\n"
    }
   },
   "id": "802e2429df9d704"
  },
  {
   "cell_type": "code",
   "outputs": [],
   "source": [
    "collection_name(Name),\n",
    "mng_get_db(DB, Collection, Name),\n",
    "path_concat('/neem_data', Collection, Dir0),\n",
    "mng_restore(DB, Dir0)."
   ],
   "metadata": {
    "collapsed": false,
    "pycharm": {
     "name": "#%%\n"
    }
   },
   "id": "73d973523aa5a341"
  },
  {
   "cell_type": "markdown",
   "source": [
    "Get the information about the episode and the start and end time stamps for this episode"
   ],
   "metadata": {
    "collapsed": false,
    "pycharm": {
     "name": "#%% md\n"
    }
   },
   "id": "4d543f63dbe2cd9d"
  },
  {
   "cell_type": "code",
   "outputs": [],
   "source": [
    "is_episode(E), is_setting_for(E, A), is_action(A), has_time_interval(A, T), has_interval_begin(T,\n",
    "                                                                                               Start), has_interval_end(\n",
    "    T, End)"
   ],
   "metadata": {
    "collapsed": false,
    "pycharm": {
     "name": "#%%\n"
    }
   },
   "id": "4f7626d576ea7cf1"
  },
  {
   "cell_type": "code",
   "outputs": [],
   "source": [
    "tf_plugin: tf_republish_set_goal(Start, End)"
   ],
   "metadata": {
    "collapsed": false,
    "pycharm": {
     "name": "#%%\n"
    }
   },
   "id": "5273d4b6bcedfa05"
  }
 ],
 "metadata": {
  "kernelspec": {
   "display_name": "Python 3 (ipykernel)",
   "language": "python",
   "name": "python3"
  },
  "language_info": {
   "codemirror_mode": {
    "name": "ipython",
    "version": 3
   },
   "file_extension": ".py",
   "mimetype": "text/x-python",
   "name": "python",
   "nbconvert_exporter": "python",
   "pygments_lexer": "ipython3",
   "version": "3.10.6"
  }
 },
 "nbformat": 4,
 "nbformat_minor": 5
}