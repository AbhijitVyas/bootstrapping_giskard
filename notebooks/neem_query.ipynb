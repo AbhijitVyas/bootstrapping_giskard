{
 "cells": [
  {
   "cell_type": "markdown",
   "id": "5c2fc50f-08d4-4c5f-9d1e-5bb58ee995e9",
   "metadata": {},
   "source": [
    "# Loading NEEM Data\n",
    "\n",
    "In order to query an episodic memory logged as NEEM, one needs to use KnowRob as backend.\n",
    "We can invoke KnowRob by simple command in an external terminal which will launch KnowRob service: roslaunch knowrob knowrob.launch"
   ]
  },
  {
   "metadata": {},
   "cell_type": "markdown",
   "source": "Afterward, we have to define the collections we want to import:",
   "id": "50986c156c7eabe9"
  },
  {
   "cell_type": "code",
   "execution_count": null,
   "id": "d64ba35f-d493-4763-a9a1-d718eb5dc15c",
   "metadata": {},
   "outputs": [],
   "source": [
    "assertz(collection_name(tf)),\n",
    "assertz(collection_name(triples)),\n",
    "assertz(collection_name(annotations)),\n",
    "assertz(collection_name(inferred))."
   ]
  },
  {
   "metadata": {},
   "cell_type": "markdown",
   "source": "Now, load the collections into KnowRob working memory:",
   "id": "f05ff68f786cd22f"
  },
  {
   "metadata": {},
   "cell_type": "code",
   "outputs": [],
   "execution_count": null,
   "source": [
    "collection_name(Name),\n",
    "mng_get_db(DB, Collection, Name),\n",
    "path_concat('/neem_data', Collection, Dir0),\n",
    "mng_restore(DB, Dir0)."
   ],
   "id": "dedc8f7ccc2e0e26"
  },
  {
   "metadata": {},
   "cell_type": "markdown",
   "source": "Important: Always wait till the commands finish and return the solutions.",
   "id": "9deffc4fa076ed57"
  },
  {
   "metadata": {},
   "cell_type": "markdown",
   "source": "Now, we can write a query to check how many cutting events are recorded within this NEEM and what are their relative poses? Additionally, this query contains the participants such as Bread and BreadKnife to clarify which objects have participated in the cutting action. ",
   "id": "2375a77769f8ad55"
  },
  {
   "metadata": {},
   "cell_type": "code",
   "outputs": [],
   "execution_count": null,
   "source": "is_action(A), has_type(A, soma:'Cut'), has_participant(A, soma:'Bread_1'), has_participant(A, soma:'BreadKnife_1'), has_location(A,P)",
   "id": "45e5045e248609f0"
  },
  {
   "metadata": {},
   "cell_type": "markdown",
   "source": "Optional: This query is for finding out howlong the entire episode of cutting bread lasted by getting the time stamps for cutting task:",
   "id": "621c74b14b59b7d5"
  },
  {
   "metadata": {},
   "cell_type": "code",
   "outputs": [],
   "execution_count": null,
   "source": "is_episode(E), is_setting_for(E,A), is_action(A), has_time_interval(A,T), has_interval_begin(T,T1),has_interval_end(T,T2)",
   "id": "ee64238273508dcf"
  },
  {
   "cell_type": "markdown",
   "id": "709281e5-822f-468c-91f5-6d83667f5f88",
   "metadata": {},
   "source": "Optional: We can replay the cutting task episode in rviz by copying the T1 and T2 values into following query."
  },
  {
   "metadata": {},
   "cell_type": "code",
   "outputs": [],
   "execution_count": null,
   "source": "tf_plugin:tf_republish_set_goal(1709824265, 1709824282)",
   "id": "f047f8d506f7d2f9"
  }
 ],
 "metadata": {
  "kernelspec": {
   "display_name": "KnowRob",
   "language": "",
   "name": "jknowrob"
  },
  "language_info": {
   "mimetype": "text/plain",
   "name": "swipl"
  }
 },
 "nbformat": 4,
 "nbformat_minor": 5
}
