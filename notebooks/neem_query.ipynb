{
 "cells": [
  {
   "cell_type": "markdown",
   "id": "5c2fc50f-08d4-4c5f-9d1e-5bb58ee995e9",
   "metadata": {},
   "source": [
    "# Loading NEEM Data\n",
    "\n",
    "Before qurying the NEEM, we need to open an extenal terminal to launch knowrob:"
   ]
  },
  {
   "metadata": {},
   "cell_type": "code",
   "outputs": [],
   "execution_count": null,
   "source": "roslaunch knowrob knowrob.launch",
   "id": "904f5a403cabc4bd"
  },
  {
   "metadata": {},
   "cell_type": "markdown",
   "source": "Now, we will load the neem data. For this we have to define the collections we want to import:",
   "id": "50986c156c7eabe9"
  },
  {
   "cell_type": "code",
   "execution_count": null,
   "id": "d64ba35f-d493-4763-a9a1-d718eb5dc15c",
   "metadata": {},
   "outputs": [],
   "source": [
    "assertz(collection_name(ros_tf)),\n",
    "assertz(collection_name(triples)),\n",
    "assertz(collection_name(annotations)),\n",
    "assertz(collection_name(inferred))."
   ]
  },
  {
   "cell_type": "markdown",
   "id": "cacb0aad-4e23-47f6-9e59-5f8b942a4ccb",
   "metadata": {},
   "source": "Afterward load the NEEM by running the following command:"
  },
  {
   "cell_type": "code",
   "execution_count": null,
   "id": "7325ae78-4f0a-4cfb-9405-df1f990c099c",
   "metadata": {},
   "outputs": [],
   "source": [
    "collection_name(Name),\n",
    "mng_get_db(DB, Collection, Name),\n",
    "path_concat('/neem_data', Collection, Dir0),\n",
    "mng_restore(DB, Dir0)."
   ]
  },
  {
   "metadata": {},
   "cell_type": "markdown",
   "source": "Important: Always wait till the commands finish and return the solutions.",
   "id": "9deffc4fa076ed57"
  },
  {
   "metadata": {},
   "cell_type": "markdown",
   "source": "Check how many cutting events are recorded within this NEEM",
   "id": "2375a77769f8ad55"
  },
  {
   "metadata": {},
   "cell_type": "code",
   "outputs": [],
   "execution_count": null,
   "source": "is_action(A), has_type(A, soma:'Cut')",
   "id": "45e5045e248609f0"
  },
  {
   "metadata": {},
   "cell_type": "markdown",
   "source": "Find out the time stamp for entire cutting task",
   "id": "621c74b14b59b7d5"
  },
  {
   "metadata": {},
   "cell_type": "code",
   "outputs": [],
   "execution_count": null,
   "source": "is_episode(E), is_setting_for(E,A), is_action(A), has_time_interval(A,T), has_interval_begin(T,T1),has_interval_end(T,T2)",
   "id": "ee64238273508dcf"
  },
  {
   "cell_type": "markdown",
   "id": "709281e5-822f-468c-91f5-6d83667f5f88",
   "metadata": {},
   "source": ""
  }
 ],
 "metadata": {
  "kernelspec": {
   "display_name": "KnowRob",
   "language": "",
   "name": "jknowrob"
  },
  "language_info": {
   "mimetype": "text/plain",
   "name": "swipl"
  }
 },
 "nbformat": 4,
 "nbformat_minor": 5
}
