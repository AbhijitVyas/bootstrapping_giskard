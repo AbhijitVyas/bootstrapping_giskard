{
 "cells": [
  {
   "cell_type": "markdown",
   "id": "5c2fc50f-08d4-4c5f-9d1e-5bb58ee995e9",
   "metadata": {},
   "source": [
    "# <b>Task Learning Notebook<b>\n",
    "Here, you will first load an episodic memory/ NEEM from our experience database and query it.\n",
    "Then, you can additionally the linked actionable knowledge graph to retrieve information on what task was performed in the experience demonstration\n",
    "\n",
    "# Step 1: Loading NEEM Data\n",
    "\n",
    "In order to query an episodic memory logged as NEEM, one needs to use KnowRob as backend.\n",
    "We can invoke KnowRob by simple command in an external terminal which will launch KnowRob service: roslaunch knowrob knowrob.launch\n",
    "\n",
    "<i>In this notebook, we have KnowRob running in the background for your convenience<i>\n",
    "\n",
    "<video src=\"./neem_query_cutting_jupyternotebook_11.mp4\" width=\"320\" height=\"240\" controls></video> "
   ]
  },
  {
   "metadata": {},
   "cell_type": "markdown",
   "source": "Run this command on separate terminal(see video): <b>roslaunch knowrob knowrob.launch<b>",
   "id": "fa3afda220066f14"
  },
  {
   "metadata": {},
   "cell_type": "markdown",
   "source": "Afterward, we have to define the collections we want to import (we load all collections that are available for the logged episode):",
   "id": "50986c156c7eabe9"
  },
  {
   "cell_type": "code",
   "execution_count": null,
   "id": "d64ba35f-d493-4763-a9a1-d718eb5dc15c",
   "metadata": {},
   "outputs": [],
   "source": [
    "assertz(collection_name(tf)),\n",
    "assertz(collection_name(triples)),\n",
    "assertz(collection_name(annotations)),\n",
    "assertz(collection_name(inferred))."
   ]
  },
  {
   "metadata": {},
   "cell_type": "markdown",
   "source": "Now, load the collections into KnowRob working memory:",
   "id": "f05ff68f786cd22f"
  },
  {
   "metadata": {},
   "cell_type": "code",
   "outputs": [],
   "execution_count": null,
   "source": [
    "collection_name(Name),\n",
    "mng_get_db(DB, Collection, Name),\n",
    "path_concat('/neem_data', Collection, Dir0),\n",
    "mng_restore(DB, Dir0)."
   ],
   "id": "dedc8f7ccc2e0e26"
  },
  {
   "metadata": {},
   "cell_type": "markdown",
   "source": "Important: Always wait till the commands finish and return the solutions.",
   "id": "9deffc4fa076ed57"
  },
  {
   "metadata": {},
   "cell_type": "markdown",
   "source": [
    "# Step 2: Query the episodic memory\n",
    "\n",
    "Now, we can write a query to check how many cutting events are recorded within this NEEM and what are their relative poses? Additionally, this query contains the participants such as Bread and BreadKnife to clarify which objects have participated in the cutting action. "
   ],
   "id": "2375a77769f8ad55"
  },
  {
   "metadata": {},
   "cell_type": "code",
   "outputs": [],
   "execution_count": null,
   "source": "is_action(A), has_type(A, soma:'Cut'), has_participant(A, soma:'Bread_1'), has_participant(A, soma:'BreadKnife_1'), has_location(A,Position)",
   "id": "45e5045e248609f0"
  },
  {
   "metadata": {},
   "cell_type": "markdown",
   "source": [
    "# Step 3: Query the Knowledge Graph\n",
    "\n",
    "Now, let us query food-cutting KG to find out various cutting options."
   ],
   "id": "b52a78e535da8adf"
  },
  {
   "metadata": {},
   "cell_type": "code",
   "outputs": [],
   "execution_count": null,
   "source": "triple(Action, 'http://www.w3.org/2002/07/owl#minQualifiedCardinality', A), triple(Task, rdfs:'subClassOf', Action), triple(Task, rdfs:subClassOf, Number), triple(Number, 'http://www.w3.org/2002/07/owl#someValuesFrom', 'http://www.ease-crc.org/ont/food_cutting#slicing_position')",
   "id": "b5476a776c3b3b91"
  }
 ],
 "metadata": {
  "kernelspec": {
   "display_name": "KnowRob",
   "language": "",
   "name": "jknowrob"
  },
  "language_info": {
   "mimetype": "text/plain",
   "name": "swipl"
  }
 },
 "nbformat": 4,
 "nbformat_minor": 5
}
